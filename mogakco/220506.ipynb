{
 "cells": [
  {
   "cell_type": "markdown",
   "id": "b88f8ce8-892a-4e1b-a5d2-45f3d085e5dd",
   "metadata": {
    "tags": []
   },
   "source": [
    "# [18406 : 럭키 스트레이트(구현)](https://www.acmicpc.net/problem/18406)"
   ]
  },
  {
   "cell_type": "code",
   "execution_count": 29,
   "id": "d9a40618-940f-4c71-bda1-dd6da7272162",
   "metadata": {},
   "outputs": [
    {
     "name": "stdin",
     "output_type": "stream",
     "text": [
      " 123402\n"
     ]
    },
    {
     "name": "stdout",
     "output_type": "stream",
     "text": [
      "LUCKY\n"
     ]
    }
   ],
   "source": [
    "n=int(input())\n",
    "def lucky(n):\n",
    "    if sum(list(map(int,list(str(n))))[:len(str(n))//2])==sum(list(map(int,list(str(n))))[len(str(n))//2:]):\n",
    "        print(\"LUCKY\")\n",
    "    else:\n",
    "        print(\"READY\")\n",
    "\n",
    "lucky(n)"
   ]
  },
  {
   "cell_type": "markdown",
   "id": "0fc39891-a14f-4611-a6ec-27ca074c541e",
   "metadata": {},
   "source": [
    "# [문자열 압축(2020 KAKAO BLIND RECRUITMENT)](https://programmers.co.kr/learn/courses/30/lessons/60057) -> 실패"
   ]
  },
  {
   "cell_type": "code",
   "execution_count": null,
   "id": "f4a1abb4-00f9-4bba-91e6-fdc1dec9c650",
   "metadata": {},
   "outputs": [],
   "source": [
    "\"aabbaccc\"\t7\n",
    "\"ababcdcdababcdcd\"\t9\n",
    "\"abcabcdede\"\t8\n",
    "\"abcabcabcabcdededededede\"\t14\n",
    "\"xababcdcdababcdcd\"\t17"
   ]
  },
  {
   "cell_type": "code",
   "execution_count": 81,
   "id": "c753964f-3de4-4a2e-b835-1836ee91ac7b",
   "metadata": {},
   "outputs": [],
   "source": [
    "import re\n",
    "from collections import Counter\n",
    "def solution(s):\n",
    "    slice=0\n",
    "    res_list=[]\n",
    "    # for i in range(1,len(s)+1):\n",
    "    for i in range(1,3):\n",
    "        res=[]\n",
    "        for j in range(0,len(s),i):\n",
    "            res.append(s[j:j+i])\n",
    "        for k in range(0,len(res)-i):\n",
    "            if res[k]==res[k+1]:\n",
    "                res[k]=None\n",
    "                \n",
    "    return res\n",
    "            \n",
    "    #     slice+=1\n",
    "    #     res=list(str)\n",
    "    # answer = 0\n",
    "    # return answer"
   ]
  },
  {
   "cell_type": "code",
   "execution_count": 83,
   "id": "8ad40e2d-b400-4798-a0c7-9d284cec312f",
   "metadata": {},
   "outputs": [
    {
     "name": "stdout",
     "output_type": "stream",
     "text": [
      "['aa', 'bb', 'ac', 'cc']\n",
      "Counter({'aa': 1, 'bb': 1, 'ac': 1, 'cc': 1})\n"
     ]
    }
   ],
   "source": [
    "kk=solution(s)\n",
    "print(kk)\n",
    "print(Counter(kk))"
   ]
  }
 ],
 "metadata": {
  "kernelspec": {
   "display_name": "Python 3",
   "language": "python",
   "name": "python3"
  },
  "language_info": {
   "codemirror_mode": {
    "name": "ipython",
    "version": 3
   },
   "file_extension": ".py",
   "mimetype": "text/x-python",
   "name": "python",
   "nbconvert_exporter": "python",
   "pygments_lexer": "ipython3",
   "version": "3.8.5"
  }
 },
 "nbformat": 4,
 "nbformat_minor": 5
}
