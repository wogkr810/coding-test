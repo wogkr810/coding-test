{
 "cells": [
  {
   "cell_type": "markdown",
   "id": "3e7bc11f-a2e8-4803-8043-619f2fad6af0",
   "metadata": {
    "tags": []
   },
   "source": [
    "# [2753 : 윤년(구현)](https://www.acmicpc.net/problem/2753)"
   ]
  },
  {
   "cell_type": "code",
   "execution_count": 15,
   "id": "963f4c6e-dc8d-4157-975c-bea6f37732be",
   "metadata": {},
   "outputs": [],
   "source": [
    "n=int(input())\n",
    "def isyun(n):\n",
    "    if n%4==0 and n%100!=0:\n",
    "        print(\"1\")\n",
    "    elif n%400==0:\n",
    "        print(1)\n",
    "    else:\n",
    "        print(0)\n",
    "isyun(n)"
   ]
  },
  {
   "cell_type": "markdown",
   "id": "3452e742-5fba-4c1a-9865-3bf4827c2897",
   "metadata": {},
   "source": [
    "# [14467 : 소가 길을 건너간 이유 1(구현)](https://www.acmicpc.net/problem/14467)"
   ]
  },
  {
   "cell_type": "code",
   "execution_count": 88,
   "id": "c4960a13-9cf4-4675-9318-b7e7c8205159",
   "metadata": {
    "collapsed": true,
    "jupyter": {
     "outputs_hidden": true
    },
    "tags": []
   },
   "outputs": [
    {
     "name": "stdin",
     "output_type": "stream",
     "text": [
      " d\n"
     ]
    },
    {
     "ename": "ValueError",
     "evalue": "invalid literal for int() with base 10: 'd'",
     "output_type": "error",
     "traceback": [
      "\u001b[0;31m---------------------------------------------------------------------------\u001b[0m",
      "\u001b[0;31mValueError\u001b[0m                                Traceback (most recent call last)",
      "Input \u001b[0;32mIn [88]\u001b[0m, in \u001b[0;36m<cell line: 1>\u001b[0;34m()\u001b[0m\n\u001b[0;32m----> 1\u001b[0m n\u001b[38;5;241m=\u001b[39m\u001b[38;5;28;43mint\u001b[39;49m\u001b[43m(\u001b[49m\u001b[38;5;28;43minput\u001b[39;49m\u001b[43m(\u001b[49m\u001b[43m)\u001b[49m\u001b[43m)\u001b[49m\n\u001b[1;32m      2\u001b[0m ls\u001b[38;5;241m=\u001b[39m[]\n\u001b[1;32m      3\u001b[0m \u001b[38;5;28;01mfor\u001b[39;00m i \u001b[38;5;129;01min\u001b[39;00m \u001b[38;5;28mrange\u001b[39m(n):\n",
      "\u001b[0;31mValueError\u001b[0m: invalid literal for int() with base 10: 'd'"
     ]
    }
   ],
   "source": [
    "n=int(input())\n",
    "ls=[]\n",
    "for i in range(n):\n",
    "    ls.append(list(map(int,input().split())))\n",
    "\n",
    "search=[]\n",
    "res=0\n",
    "for i in range(n):\n",
    "    search.append([])\n",
    "for i in range(len(ls)):\n",
    "    search[ls[i][0]-1].append(ls[i][1])\n",
    "for i in range(len(search)):\n",
    "    if len(search[i])==0:\n",
    "        pass\n",
    "    else:\n",
    "        for j in range(len(search[i])-1):\n",
    "            if search[i][j]!=search[i][j+1]:\n",
    "                res+=1\n",
    "print(res)\n",
    "            \n",
    "        "
   ]
  },
  {
   "cell_type": "code",
   "execution_count": null,
   "id": "cbc05534-b1d9-4917-81fd-e4719e9de0e8",
   "metadata": {},
   "outputs": [],
   "source": []
  },
  {
   "cell_type": "code",
   "execution_count": null,
   "id": "a3563010-4f95-4616-8f5a-1df8cba3425f",
   "metadata": {},
   "outputs": [],
   "source": [
    "깃허브정리 + 모각코 노션 링크옮기기"
   ]
  }
 ],
 "metadata": {
  "kernelspec": {
   "display_name": "Python 3",
   "language": "python",
   "name": "python3"
  },
  "language_info": {
   "codemirror_mode": {
    "name": "ipython",
    "version": 3
   },
   "file_extension": ".py",
   "mimetype": "text/x-python",
   "name": "python",
   "nbconvert_exporter": "python",
   "pygments_lexer": "ipython3",
   "version": "3.8.5"
  }
 },
 "nbformat": 4,
 "nbformat_minor": 5
}
