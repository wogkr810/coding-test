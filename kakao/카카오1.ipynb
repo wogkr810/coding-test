{
 "cells": [
  {
   "cell_type": "code",
   "execution_count": 37,
   "metadata": {},
   "outputs": [],
   "source": [
    "def solution(id_list, report, k):\n",
    "    # 중복원소제거\n",
    "    list_split=[]\n",
    "    report=set(report)\n",
    "    report=list(report)\n",
    "    # 공백기준으로 신고 대상,신고자 나누기\n",
    "    for i in range(len(report)):\n",
    "        list_split.append(report[i].split()) \n",
    "    ans=[0,0,0,0]\n",
    "    for i in range(len(report)):\n",
    "        if list_split[i][1]==id_list[0]:\n",
    "            ans[0]+=1\n",
    "        elif list_split[i][1]==id_list[1]:\n",
    "            ans[1]+=1\n",
    "        elif list_split[i][1]==id_list[2]:\n",
    "            ans[2]+=1\n",
    "        elif list_split[i][1]==id_list[3]:\n",
    "            ans[3]+=1   \n",
    "    idx=[]\n",
    "    singo_idx=[]\n",
    "    for i in range(len(ans)):\n",
    "        if ans[i]>=k:\n",
    "            idx.append(i)\n",
    "    for i in range(len(list_split)):\n",
    "        for j in range(len(idx)):\n",
    "            if list_split[i][1]==id_list[idx[j]]:\n",
    "                singo_idx.append(list_split[i][0])\n",
    "    answer=[0]*len(id_list)\n",
    "    for i in range(len(singo_idx)):\n",
    "        for j in range(len(id_list)):\n",
    "            if singo_idx[i]==id_list[j]:\n",
    "                answer[j]+=1         \n",
    "#         if singo_idx[i]==id[0]:\n",
    "#             answer[0]+=1\n",
    "#         elif singo_idx[i]==id[1]:\n",
    "#             answer[1]+=1\n",
    "#         elif singo_idx[i]==id[2]:\n",
    "#             answer[2]+=1\n",
    "#         elif singo_idx[i]==id[3]:\n",
    "#             answer[3]+=1 \n",
    "    return answer"
   ]
  },
  {
   "cell_type": "code",
   "execution_count": 38,
   "metadata": {},
   "outputs": [],
   "source": [
    "id=[\"muzi\",\"frodo\",\"apeach\",\"neo\"]\n",
    "rp=[\"muzi frodo\",\"apeach frodo\",\"frodo neo\",\"muzi neo\",\"apeach muzi\"]\n",
    "k=2"
   ]
  },
  {
   "cell_type": "code",
   "execution_count": 39,
   "metadata": {},
   "outputs": [],
   "source": [
    "aa=[\"con\", \"ryan\"]\n",
    "bb=[\"ryan con\", \"ryan con\", \"ryan con\", \"ryan con\"]\n",
    "k=3"
   ]
  },
  {
   "cell_type": "code",
   "execution_count": 40,
   "metadata": {},
   "outputs": [
    {
     "data": {
      "text/plain": [
       "[0, 0]"
      ]
     },
     "execution_count": 40,
     "metadata": {},
     "output_type": "execute_result"
    }
   ],
   "source": [
    "solution(aa,bb,k)"
   ]
  }
 ],
 "metadata": {
  "kernelspec": {
   "display_name": "Python 3",
   "language": "python",
   "name": "python3"
  },
  "language_info": {
   "codemirror_mode": {
    "name": "ipython",
    "version": 3
   },
   "file_extension": ".py",
   "mimetype": "text/x-python",
   "name": "python",
   "nbconvert_exporter": "python",
   "pygments_lexer": "ipython3",
   "version": "3.7.7"
  }
 },
 "nbformat": 4,
 "nbformat_minor": 4
}
