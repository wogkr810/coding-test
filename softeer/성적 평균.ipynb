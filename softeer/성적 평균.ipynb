{
 "cells": [
  {
   "cell_type": "code",
   "execution_count": null,
   "metadata": {},
   "outputs": [],
   "source": [
    "N, K = map(int,input().split())\n",
    "score = list(map(int,input().split()))\n",
    "\n",
    "for _ in range(K):\n",
    "    A, B = map(int,input().split())\n",
    "    print(round(sum(score[A:B+1])/(B-A+1),2))"
   ]
  }
 ],
 "metadata": {
  "kernelspec": {
   "display_name": "Python 3.10.8 64-bit (microsoft store)",
   "language": "python",
   "name": "python3"
  },
  "language_info": {
   "codemirror_mode": {
    "name": "ipython",
    "version": 3
   },
   "file_extension": ".py",
   "mimetype": "text/x-python",
   "name": "python",
   "nbconvert_exporter": "python",
   "pygments_lexer": "ipython3",
   "version": "3.10.9 (tags/v3.10.9:1dd9be6, Dec  6 2022, 20:01:21) [MSC v.1934 64 bit (AMD64)]"
  },
  "orig_nbformat": 4,
  "vscode": {
   "interpreter": {
    "hash": "63a5ac1583d6eb4ea065edb84476a413183a2175cdb7fa092bf20451b77d24a3"
   }
  }
 },
 "nbformat": 4,
 "nbformat_minor": 2
}
