{
 "cells": [
  {
   "cell_type": "code",
   "execution_count": 11,
   "metadata": {},
   "outputs": [
    {
     "name": "stdout",
     "output_type": "stream",
     "text": [
      "['', '', '1', '1', '1']\n",
      "['', '', '', '1', '1']\n",
      "['', '', '', '1', '1']\n",
      "['1', '1', '1', '1', '1']\n",
      "6\n",
      "10\n"
     ]
    }
   ],
   "source": [
    "digit_list = [[0]*10 for i in range(10)]\n",
    "\n",
    "digit_list[0] = [6,4,3,3,4,3,2,2,1,2]\n",
    "digit_list[1] = [4,2,5,3,2,5,6,2,5,4]\n",
    "digit_list[2] = [3,5,5,2,5,4,3,5,2,3]\n",
    "digit_list[3] = [3,3,2,5,3,2,3,3,2,1]\n",
    "digit_list[4] = [4,2,5,3,4,3,4,2,3,2]\n",
    "digit_list[5] = [3,5,4,2,3,5,1,3,2,1]\n",
    "digit_list[6] = [2,6,3,3,4,1,6,4,1,2]\n",
    "digit_list[7] = [2,2,5,3,2,3,4,4,3,2]\n",
    "digit_list[8] = [1,5,2,2,3,2,1,3,7,1]\n",
    "digit_list[9] = [2,4,3,1,2,1,2,2,1,6]\n",
    "\n",
    "\n",
    "res = []\n",
    "T = int(input())\n",
    "for _ in range(T):\n",
    "    cnt = 0\n",
    "    A, B = input().split()\n",
    "    A = [''] * (5-len(A)) + list(A)\n",
    "    B = [''] * (5-len(B)) + list(B)\n",
    "    \n",
    "    for i in range(len(A)):\n",
    "        A_digit = A[i]\n",
    "        B_digit = B[i]\n",
    "        if A_digit == '' and B_digit != '':\n",
    "            cnt += digit_list[int(B_digit)][int(B_digit)]\n",
    "        elif A_digit != '' and B_digit == '':\n",
    "            cnt += digit_list[int(A_digit)][int(A_digit)]\n",
    "        elif A_digit == B_digit:         # 둘다 ''로 같은경우도 포함\n",
    "            continue\n",
    "        else:\n",
    "            cnt += digit_list[int(A_digit)][int(B_digit)]\n",
    "\n",
    "    res.append(cnt)\n",
    "    \n",
    "\n",
    "for i in res:\n",
    "    print(i)\n"
   ]
  },
  {
   "cell_type": "code",
   "execution_count": null,
   "metadata": {},
   "outputs": [],
   "source": [
    "'''\n",
    "  0 1 2 3 4 5 6 7 8 9\n",
    "0   4 3 3 4 3 2 2 1 2\n",
    "1 4   5 3 2 5 6 2 5 4\n",
    "2 3 5   2 5 4 3 5 2 3\n",
    "3 3 3 2   3 2 3 3 2 1\n",
    "4           3 4 2 3 2\n",
    "5             1 3 2 1\n",
    "6               4 1 2\n",
    "7                 3 2\n",
    "8                   1\n",
    "9\n",
    "'''"
   ]
  }
 ],
 "metadata": {
  "kernelspec": {
   "display_name": "Python 3.10.8 64-bit (microsoft store)",
   "language": "python",
   "name": "python3"
  },
  "language_info": {
   "codemirror_mode": {
    "name": "ipython",
    "version": 3
   },
   "file_extension": ".py",
   "mimetype": "text/x-python",
   "name": "python",
   "nbconvert_exporter": "python",
   "pygments_lexer": "ipython3",
   "version": "3.10.9 (tags/v3.10.9:1dd9be6, Dec  6 2022, 20:01:21) [MSC v.1934 64 bit (AMD64)]"
  },
  "orig_nbformat": 4,
  "vscode": {
   "interpreter": {
    "hash": "63a5ac1583d6eb4ea065edb84476a413183a2175cdb7fa092bf20451b77d24a3"
   }
  }
 },
 "nbformat": 4,
 "nbformat_minor": 2
}
